{
 "cells": [
  {
   "cell_type": "code",
   "execution_count": 1,
   "id": "bb5c3450",
   "metadata": {},
   "outputs": [],
   "source": [
    "import os"
   ]
  },
  {
   "cell_type": "code",
   "execution_count": 2,
   "id": "2dadcb45",
   "metadata": {},
   "outputs": [
    {
     "data": {
      "text/plain": [
       "'C:\\\\Users\\\\crwil\\\\Documents\\\\GitHub\\\\global-economy-api'"
      ]
     },
     "execution_count": 2,
     "metadata": {},
     "output_type": "execute_result"
    }
   ],
   "source": [
    "# define repo name and get root working directory\n",
    "repo = 'global-economy-api'\n",
    "root_path = os.getcwd()[ 0 : os.getcwd().find( repo ) + len ( repo )]\n",
    "root_path"
   ]
  },
  {
   "cell_type": "code",
   "execution_count": 3,
   "id": "8ff1c91f",
   "metadata": {},
   "outputs": [],
   "source": [
    "# add repo source + notebooks directory to system path\n",
    "import sys\n",
    "sys.path.insert(0, os.path.join( root_path, 'src' ) )\n",
    "sys.path.insert(0, os.path.join( root_path, 'notebooks' ) )"
   ]
  },
  {
   "cell_type": "code",
   "execution_count": 4,
   "id": "8d90648a",
   "metadata": {},
   "outputs": [],
   "source": [
    "from client import Client\n",
    "\n",
    "# create request object\n",
    "obj = Client()"
   ]
  },
  {
   "cell_type": "code",
   "execution_count": 5,
   "id": "1f984fca",
   "metadata": {},
   "outputs": [
    {
     "name": "stdout",
     "output_type": "stream",
     "text": [
      "https://www.theglobaleconomy.com/data_export_api.php?tp=1&ind=19&cnt=IN,CN&prd=1960:2020&uid=90902&uidc=0318f527ddfd08c361f1df372fdfd2e4\n",
      "      id        date                indicator  value\n",
      "0    CHN  1960-01-01  Exports, percent of GDP   4.31\n",
      "1    CHN  1961-01-01  Exports, percent of GDP   3.87\n",
      "2    CHN  1962-01-01  Exports, percent of GDP   4.05\n",
      "3    CHN  1963-01-01  Exports, percent of GDP   4.01\n",
      "4    CHN  1964-01-01  Exports, percent of GDP   3.77\n",
      "..   ...         ...                      ...    ...\n",
      "117  IND  2016-01-01  Exports, percent of GDP  19.16\n",
      "118  IND  2017-01-01  Exports, percent of GDP  18.79\n",
      "119  IND  2018-01-01  Exports, percent of GDP  19.94\n",
      "120  IND  2019-01-01  Exports, percent of GDP  18.43\n",
      "121  IND  2020-01-01  Exports, percent of GDP  18.08\n",
      "\n",
      "[122 rows x 4 columns]\n"
     ]
    }
   ],
   "source": [
    "# test indicator name mapping\n",
    "indicators = [ 'Exports, percent of GDP' ]\n",
    "uri = obj.getUri( [\"India\", \"China\"], Client.Frequency.annual, indicators=indicators, start_year=1960, end_year=2020 )\n",
    "print ( uri )\n",
    "\n",
    "# convert response to dataframe\n",
    "df = obj.convertToDataFrame( obj.postRequest( uri ) )\n",
    "print ( df )\n"
   ]
  },
  {
   "cell_type": "code",
   "execution_count": 6,
   "id": "0ffd3870",
   "metadata": {},
   "outputs": [
    {
     "data": {
      "text/html": [
       "<div>\n",
       "<style scoped>\n",
       "    .dataframe tbody tr th:only-of-type {\n",
       "        vertical-align: middle;\n",
       "    }\n",
       "\n",
       "    .dataframe tbody tr th {\n",
       "        vertical-align: top;\n",
       "    }\n",
       "\n",
       "    .dataframe thead th {\n",
       "        text-align: right;\n",
       "    }\n",
       "</style>\n",
       "<table border=\"1\" class=\"dataframe\">\n",
       "  <thead>\n",
       "    <tr style=\"text-align: right;\">\n",
       "      <th></th>\n",
       "      <th>id</th>\n",
       "      <th>date</th>\n",
       "      <th>indicator</th>\n",
       "      <th>value</th>\n",
       "    </tr>\n",
       "  </thead>\n",
       "  <tbody>\n",
       "    <tr>\n",
       "      <th>0</th>\n",
       "      <td>CHN</td>\n",
       "      <td>1960-01-01</td>\n",
       "      <td>Exports, percent of GDP</td>\n",
       "      <td>4.31</td>\n",
       "    </tr>\n",
       "    <tr>\n",
       "      <th>1</th>\n",
       "      <td>CHN</td>\n",
       "      <td>1961-01-01</td>\n",
       "      <td>Exports, percent of GDP</td>\n",
       "      <td>3.87</td>\n",
       "    </tr>\n",
       "    <tr>\n",
       "      <th>2</th>\n",
       "      <td>CHN</td>\n",
       "      <td>1962-01-01</td>\n",
       "      <td>Exports, percent of GDP</td>\n",
       "      <td>4.05</td>\n",
       "    </tr>\n",
       "    <tr>\n",
       "      <th>3</th>\n",
       "      <td>CHN</td>\n",
       "      <td>1963-01-01</td>\n",
       "      <td>Exports, percent of GDP</td>\n",
       "      <td>4.01</td>\n",
       "    </tr>\n",
       "    <tr>\n",
       "      <th>4</th>\n",
       "      <td>CHN</td>\n",
       "      <td>1964-01-01</td>\n",
       "      <td>Exports, percent of GDP</td>\n",
       "      <td>3.77</td>\n",
       "    </tr>\n",
       "    <tr>\n",
       "      <th>...</th>\n",
       "      <td>...</td>\n",
       "      <td>...</td>\n",
       "      <td>...</td>\n",
       "      <td>...</td>\n",
       "    </tr>\n",
       "    <tr>\n",
       "      <th>117</th>\n",
       "      <td>IND</td>\n",
       "      <td>2016-01-01</td>\n",
       "      <td>Exports, percent of GDP</td>\n",
       "      <td>19.16</td>\n",
       "    </tr>\n",
       "    <tr>\n",
       "      <th>118</th>\n",
       "      <td>IND</td>\n",
       "      <td>2017-01-01</td>\n",
       "      <td>Exports, percent of GDP</td>\n",
       "      <td>18.79</td>\n",
       "    </tr>\n",
       "    <tr>\n",
       "      <th>119</th>\n",
       "      <td>IND</td>\n",
       "      <td>2018-01-01</td>\n",
       "      <td>Exports, percent of GDP</td>\n",
       "      <td>19.94</td>\n",
       "    </tr>\n",
       "    <tr>\n",
       "      <th>120</th>\n",
       "      <td>IND</td>\n",
       "      <td>2019-01-01</td>\n",
       "      <td>Exports, percent of GDP</td>\n",
       "      <td>18.43</td>\n",
       "    </tr>\n",
       "    <tr>\n",
       "      <th>121</th>\n",
       "      <td>IND</td>\n",
       "      <td>2020-01-01</td>\n",
       "      <td>Exports, percent of GDP</td>\n",
       "      <td>18.08</td>\n",
       "    </tr>\n",
       "  </tbody>\n",
       "</table>\n",
       "<p>122 rows × 4 columns</p>\n",
       "</div>"
      ],
      "text/plain": [
       "      id        date                indicator  value\n",
       "0    CHN  1960-01-01  Exports, percent of GDP   4.31\n",
       "1    CHN  1961-01-01  Exports, percent of GDP   3.87\n",
       "2    CHN  1962-01-01  Exports, percent of GDP   4.05\n",
       "3    CHN  1963-01-01  Exports, percent of GDP   4.01\n",
       "4    CHN  1964-01-01  Exports, percent of GDP   3.77\n",
       "..   ...         ...                      ...    ...\n",
       "117  IND  2016-01-01  Exports, percent of GDP  19.16\n",
       "118  IND  2017-01-01  Exports, percent of GDP  18.79\n",
       "119  IND  2018-01-01  Exports, percent of GDP  19.94\n",
       "120  IND  2019-01-01  Exports, percent of GDP  18.43\n",
       "121  IND  2020-01-01  Exports, percent of GDP  18.08\n",
       "\n",
       "[122 rows x 4 columns]"
      ]
     },
     "execution_count": 6,
     "metadata": {},
     "output_type": "execute_result"
    }
   ],
   "source": [
    "# convert value to float\n",
    "df[ 'value' ] = df['value'].astype('float')\n",
    "df"
   ]
  },
  {
   "cell_type": "code",
   "execution_count": 7,
   "id": "d3b727ae",
   "metadata": {},
   "outputs": [
    {
     "data": {
      "text/html": [
       "<div>\n",
       "<style scoped>\n",
       "    .dataframe tbody tr th:only-of-type {\n",
       "        vertical-align: middle;\n",
       "    }\n",
       "\n",
       "    .dataframe tbody tr th {\n",
       "        vertical-align: top;\n",
       "    }\n",
       "\n",
       "    .dataframe thead th {\n",
       "        text-align: right;\n",
       "    }\n",
       "</style>\n",
       "<table border=\"1\" class=\"dataframe\">\n",
       "  <thead>\n",
       "    <tr style=\"text-align: right;\">\n",
       "      <th></th>\n",
       "      <th>date</th>\n",
       "      <th>1960-01-01</th>\n",
       "      <th>1961-01-01</th>\n",
       "      <th>1962-01-01</th>\n",
       "      <th>1963-01-01</th>\n",
       "      <th>1964-01-01</th>\n",
       "      <th>1965-01-01</th>\n",
       "      <th>1966-01-01</th>\n",
       "      <th>1967-01-01</th>\n",
       "      <th>1968-01-01</th>\n",
       "      <th>1969-01-01</th>\n",
       "      <th>...</th>\n",
       "      <th>2011-01-01</th>\n",
       "      <th>2012-01-01</th>\n",
       "      <th>2013-01-01</th>\n",
       "      <th>2014-01-01</th>\n",
       "      <th>2015-01-01</th>\n",
       "      <th>2016-01-01</th>\n",
       "      <th>2017-01-01</th>\n",
       "      <th>2018-01-01</th>\n",
       "      <th>2019-01-01</th>\n",
       "      <th>2020-01-01</th>\n",
       "    </tr>\n",
       "    <tr>\n",
       "      <th>indicator</th>\n",
       "      <th>id</th>\n",
       "      <th></th>\n",
       "      <th></th>\n",
       "      <th></th>\n",
       "      <th></th>\n",
       "      <th></th>\n",
       "      <th></th>\n",
       "      <th></th>\n",
       "      <th></th>\n",
       "      <th></th>\n",
       "      <th></th>\n",
       "      <th></th>\n",
       "      <th></th>\n",
       "      <th></th>\n",
       "      <th></th>\n",
       "      <th></th>\n",
       "      <th></th>\n",
       "      <th></th>\n",
       "      <th></th>\n",
       "      <th></th>\n",
       "      <th></th>\n",
       "      <th></th>\n",
       "    </tr>\n",
       "  </thead>\n",
       "  <tbody>\n",
       "    <tr>\n",
       "      <th rowspan=\"2\" valign=\"top\">Exports, percent of GDP</th>\n",
       "      <th>CHN</th>\n",
       "      <td>4.31</td>\n",
       "      <td>3.87</td>\n",
       "      <td>4.05</td>\n",
       "      <td>4.01</td>\n",
       "      <td>3.77</td>\n",
       "      <td>3.64</td>\n",
       "      <td>3.49</td>\n",
       "      <td>3.28</td>\n",
       "      <td>3.30</td>\n",
       "      <td>3.05</td>\n",
       "      <td>...</td>\n",
       "      <td>26.57</td>\n",
       "      <td>25.49</td>\n",
       "      <td>24.60</td>\n",
       "      <td>23.51</td>\n",
       "      <td>21.35</td>\n",
       "      <td>19.58</td>\n",
       "      <td>19.69</td>\n",
       "      <td>19.11</td>\n",
       "      <td>18.50</td>\n",
       "      <td>18.50</td>\n",
       "    </tr>\n",
       "    <tr>\n",
       "      <th>IND</th>\n",
       "      <td>4.46</td>\n",
       "      <td>4.30</td>\n",
       "      <td>4.17</td>\n",
       "      <td>4.28</td>\n",
       "      <td>3.73</td>\n",
       "      <td>3.31</td>\n",
       "      <td>4.14</td>\n",
       "      <td>4.03</td>\n",
       "      <td>4.04</td>\n",
       "      <td>3.71</td>\n",
       "      <td>...</td>\n",
       "      <td>24.54</td>\n",
       "      <td>24.53</td>\n",
       "      <td>25.43</td>\n",
       "      <td>22.97</td>\n",
       "      <td>19.81</td>\n",
       "      <td>19.16</td>\n",
       "      <td>18.79</td>\n",
       "      <td>19.94</td>\n",
       "      <td>18.43</td>\n",
       "      <td>18.08</td>\n",
       "    </tr>\n",
       "  </tbody>\n",
       "</table>\n",
       "<p>2 rows × 61 columns</p>\n",
       "</div>"
      ],
      "text/plain": [
       "date                         1960-01-01  1961-01-01  1962-01-01  1963-01-01  \\\n",
       "indicator               id                                                    \n",
       "Exports, percent of GDP CHN        4.31        3.87        4.05        4.01   \n",
       "                        IND        4.46        4.30        4.17        4.28   \n",
       "\n",
       "date                         1964-01-01  1965-01-01  1966-01-01  1967-01-01  \\\n",
       "indicator               id                                                    \n",
       "Exports, percent of GDP CHN        3.77        3.64        3.49        3.28   \n",
       "                        IND        3.73        3.31        4.14        4.03   \n",
       "\n",
       "date                         1968-01-01  1969-01-01  ...  2011-01-01  \\\n",
       "indicator               id                           ...               \n",
       "Exports, percent of GDP CHN        3.30        3.05  ...       26.57   \n",
       "                        IND        4.04        3.71  ...       24.54   \n",
       "\n",
       "date                         2012-01-01  2013-01-01  2014-01-01  2015-01-01  \\\n",
       "indicator               id                                                    \n",
       "Exports, percent of GDP CHN       25.49       24.60       23.51       21.35   \n",
       "                        IND       24.53       25.43       22.97       19.81   \n",
       "\n",
       "date                         2016-01-01  2017-01-01  2018-01-01  2019-01-01  \\\n",
       "indicator               id                                                    \n",
       "Exports, percent of GDP CHN       19.58       19.69       19.11       18.50   \n",
       "                        IND       19.16       18.79       19.94       18.43   \n",
       "\n",
       "date                         2020-01-01  \n",
       "indicator               id               \n",
       "Exports, percent of GDP CHN       18.50  \n",
       "                        IND       18.08  \n",
       "\n",
       "[2 rows x 61 columns]"
      ]
     },
     "execution_count": 7,
     "metadata": {},
     "output_type": "execute_result"
    }
   ],
   "source": [
    "import pandas as pd\n",
    "pivot_df = df.pivot(index=[\"indicator\", \"id\" ], columns=\"date\", values=\"value\")\n",
    "pivot_df"
   ]
  },
  {
   "cell_type": "code",
   "execution_count": 8,
   "id": "9ca74e29",
   "metadata": {},
   "outputs": [
    {
     "data": {
      "text/plain": [
       "<AxesSubplot:xlabel='date'>"
      ]
     },
     "execution_count": 8,
     "metadata": {},
     "output_type": "execute_result"
    },
    {
     "data": {
      "image/png": "[encoded data removed]",
      "text/plain": [
       "<Figure size 432x288 with 1 Axes>"
      ]
     },
     "metadata": {
      "needs_background": "light"
     },
     "output_type": "display_data"
    }
   ],
   "source": [
    "ax = pivot_df.loc[ 'Exports, percent of GDP', 'CHN' ].plot()\n",
    "pivot_df.loc[ 'Exports, percent of GDP', 'IND' ].plot(ax=ax)"
   ]
  },
  {
   "cell_type": "code",
   "execution_count": 9,
   "id": "4b760c15",
   "metadata": {},
   "outputs": [
    {
     "data": {
      "text/plain": [
       "<AxesSubplot:xlabel='date'>"
      ]
     },
     "execution_count": 9,
     "metadata": {},
     "output_type": "execute_result"
    },
    {
     "data": {
      "image/png": "[encoded data removed]",
      "text/plain": [
       "<Figure size 432x288 with 1 Axes>"
      ]
     },
     "metadata": {
      "needs_background": "light"
     },
     "output_type": "display_data"
    }
   ],
   "source": [
    "pivot_df.loc[ 'Exports, percent of GDP', : ].transpose( ).reset_index().plot( x='date')"
   ]
  },
  {
   "cell_type": "code",
   "execution_count": null,
   "id": "b68f1dcb",
   "metadata": {},
   "outputs": [],
   "source": []
  }
 ],
 "metadata": {
  "kernelspec": {
   "display_name": "Python 3 (ipykernel)",
   "language": "python",
   "name": "python3"
  },
  "language_info": {
   "codemirror_mode": {
    "name": "ipython",
    "version": 3
   },
   "file_extension": ".py",
   "mimetype": "text/x-python",
   "name": "python",
   "nbconvert_exporter": "python",
   "pygments_lexer": "ipython3",
   "version": "3.9.9"
  }
 },
 "nbformat": 4,
 "nbformat_minor": 5
}
